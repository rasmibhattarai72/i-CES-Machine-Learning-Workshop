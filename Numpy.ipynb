{
 "cells": [
  {
   "cell_type": "markdown",
   "metadata": {
    "colab_type": "text",
    "id": "IK_3UDWnvweY"
   },
   "source": [
    "##What is Numpy?\n",
    "\n",
    "\n",
    "*   The numerical python library used for working with arrays.\n",
    "*   Created in 2005 by Travis Oliphant\n",
    "*   Written partially in Python, but most of the parts that require fast computation are written in C or C++.\n",
    "\n",
    "\n",
    "\n",
    "\n",
    "\n",
    ". \n",
    "\n",
    "\n",
    "\n",
    "\n"
   ]
  },
  {
   "cell_type": "markdown",
   "metadata": {
    "colab_type": "text",
    "id": "zB_hR0JNzFXV"
   },
   "source": [
    "##Why use Numpy?\n",
    "*   Has functions for working in domain of linear algebra, fourier transform, and matrices.\n",
    "*   Aims to provide an array object that is up to 50x times faster than traditional Python lists.\n",
    "*   Forms the foundation of Machine Learning Stack\n"
   ]
  },
  {
   "cell_type": "markdown",
   "metadata": {
    "colab_type": "text",
    "id": "vQvbsCEkzLRI"
   },
   "source": [
    "### Import Numpy\n",
    "Numpy package is imported as alias **np**"
   ]
  },
  {
   "cell_type": "code",
   "execution_count": 1,
   "metadata": {
    "colab": {},
    "colab_type": "code",
    "id": "-lGBCZp5uzy6"
   },
   "outputs": [],
   "source": [
    "import numpy as np\n",
    "# The list type data type which we work with in numpy is called n-dim array. "
   ]
  },
  {
   "cell_type": "markdown",
   "metadata": {
    "colab_type": "text",
    "id": "2huqauWDvVo1"
   },
   "source": [
    "## Creating an 1-D Array(Vector)\n"
   ]
  },
  {
   "cell_type": "code",
   "execution_count": 2,
   "metadata": {
    "colab": {
     "base_uri": "https://localhost:8080/",
     "height": 50
    },
    "colab_type": "code",
    "id": "1DTes34k0QCl",
    "outputId": "e7cc7034-edb6-408b-b4ca-204aa820a374"
   },
   "outputs": [
    {
     "name": "stdout",
     "output_type": "stream",
     "text": [
      "[2 6 4 8 2 1 4 3]\n",
      "Shape of Matrix is (8,)\n"
     ]
    }
   ],
   "source": [
    "# There are many ways to create a Vector. The first one is with use of python list.\n",
    "\n",
    "#Row Vector\n",
    "a = [2,6,4,8,2,1,4,3]\n",
    "arr = np.array(a)\n",
    "print(arr)\n",
    "print('Shape of Matrix is',arr.shape)"
   ]
  },
  {
   "cell_type": "markdown",
   "metadata": {
    "colab_type": "text",
    "id": "TnLvbW3r3Nxa"
   },
   "source": [
    "## Creating a 2D array (Matrix)"
   ]
  },
  {
   "cell_type": "code",
   "execution_count": 17,
   "metadata": {
    "colab": {
     "base_uri": "https://localhost:8080/",
     "height": 151
    },
    "colab_type": "code",
    "id": "0PRwOJtI3nxR",
    "outputId": "321855fa-4c79-466a-f933-106ff7877f24"
   },
   "outputs": [
    {
     "name": "stdout",
     "output_type": "stream",
     "text": [
      "[[2 6 4]\n",
      " [8 2 1]\n",
      " [1 4 3]]\n"
     ]
    }
   ],
   "source": [
    "\n",
    "# Similiarly, Matrix is formed using list of list.\n",
    "list_mat = [[2,6,4],[8,2,1],[1,4,3]] \n",
    "\n",
    "array_mat = np.array(list_mat)\n",
    "\n",
    "print(array_mat)"
   ]
  },
  {
   "cell_type": "code",
   "execution_count": 12,
   "metadata": {},
   "outputs": [
    {
     "name": "stdout",
     "output_type": "stream",
     "text": [
      "Array is of type:  <class 'numpy.ndarray'>\n"
     ]
    }
   ],
   "source": [
    "# Printing type of arr object\n",
    "print(\"Array is of type: \", type(array_mat))\n",
    " "
   ]
  },
  {
   "cell_type": "code",
   "execution_count": 13,
   "metadata": {},
   "outputs": [
    {
     "name": "stdout",
     "output_type": "stream",
     "text": [
      "No. of dimensions:  2\n"
     ]
    }
   ],
   "source": [
    "# Printing array dimensions (axes)\n",
    "print(\"No. of dimensions: \", array_mat.ndim)"
   ]
  },
  {
   "cell_type": "code",
   "execution_count": 14,
   "metadata": {},
   "outputs": [
    {
     "name": "stdout",
     "output_type": "stream",
     "text": [
      "Shape of array:  (3, 3)\n"
     ]
    }
   ],
   "source": [
    "# Printing shape of array\n",
    "print(\"Shape of array: \", array_mat.shape)\n",
    " "
   ]
  },
  {
   "cell_type": "code",
   "execution_count": 15,
   "metadata": {},
   "outputs": [
    {
     "name": "stdout",
     "output_type": "stream",
     "text": [
      "Size of array:  9\n"
     ]
    }
   ],
   "source": [
    "# Printing size (total number of elements) of array\n",
    "print(\"Size of array: \", array_mat.size)"
   ]
  },
  {
   "cell_type": "code",
   "execution_count": 16,
   "metadata": {},
   "outputs": [
    {
     "name": "stdout",
     "output_type": "stream",
     "text": [
      "Array stores elements of type:  int32\n"
     ]
    }
   ],
   "source": [
    "#Printing type of elements in array\n",
    "print(\"Array stores elements of type: \", array_mat.dtype)"
   ]
  },
  {
   "cell_type": "markdown",
   "metadata": {
    "colab_type": "text",
    "id": "B0lMYhKTSbZK"
   },
   "source": [
    "**The elements of an array are originally unknown, but it's size is known. Hence, Numpy offers several functions to create arrays with initial placeholder content.**"
   ]
  },
  {
   "cell_type": "code",
   "execution_count": 18,
   "metadata": {
    "colab": {
     "base_uri": "https://localhost:8080/",
     "height": 50
    },
    "colab_type": "code",
    "id": "2lsp-A7p4nQE",
    "outputId": "ce54fea1-f6f8-4fb8-d91f-d882dfa6c728"
   },
   "outputs": [
    {
     "name": "stdout",
     "output_type": "stream",
     "text": [
      "[[0. 0.]\n",
      " [0. 0.]]\n"
     ]
    }
   ],
   "source": [
    "\n",
    "\n",
    "#returns a new array of specified size filled with zeros\n",
    "x_zeros = np.zeros((2, 2))\n",
    "\n",
    "print (x_zeros)\n"
   ]
  },
  {
   "cell_type": "code",
   "execution_count": 19,
   "metadata": {
    "colab": {
     "base_uri": "https://localhost:8080/",
     "height": 50
    },
    "colab_type": "code",
    "id": "bTcYWHqCThXT",
    "outputId": "27ee2a0f-9c97-4cd8-beb1-a873e726cf0c"
   },
   "outputs": [
    {
     "name": "stdout",
     "output_type": "stream",
     "text": [
      "[[1. 1.]\n",
      " [1. 1.]]\n"
     ]
    }
   ],
   "source": [
    "\n",
    "\n",
    "#returns a new array of specified size filled with ones\n",
    "x_ones = np.ones((2, 2))\n",
    "\n",
    "print (x_ones)\n"
   ]
  },
  {
   "cell_type": "code",
   "execution_count": 8,
   "metadata": {
    "colab": {
     "base_uri": "https://localhost:8080/",
     "height": 50
    },
    "colab_type": "code",
    "id": "UUOTn3-UWBjI",
    "outputId": "9cecf279-7176-487c-d1cc-77f532f55966"
   },
   "outputs": [
    {
     "name": "stdout",
     "output_type": "stream",
     "text": [
      "[[0. 0. 0.]\n",
      " [0. 0. 0.]]\n"
     ]
    }
   ],
   "source": [
    "\n",
    "\n",
    "#returns a new array of specified size filled with random values\n",
    "x_default = np.empty((2, 3))\n",
    "\n",
    "print (x_default)"
   ]
  },
  {
   "cell_type": "markdown",
   "metadata": {
    "colab_type": "text",
    "id": "Sux3YPt5U34Y"
   },
   "source": [
    "**Here we will see how to create an array from numerical ranges**"
   ]
  },
  {
   "cell_type": "code",
   "execution_count": 21,
   "metadata": {
    "colab": {
     "base_uri": "https://localhost:8080/",
     "height": 34
    },
    "colab_type": "code",
    "id": "gIuq4ejMUnAB",
    "outputId": "c65ff654-4ecb-447c-b499-051db6ae633c"
   },
   "outputs": [
    {
     "name": "stdout",
     "output_type": "stream",
     "text": [
      "[0 1 2 3 4]\n"
     ]
    }
   ],
   "source": [
    "x = np.arange(5)\n",
    "print (x)\n"
   ]
  },
  {
   "cell_type": "code",
   "execution_count": 22,
   "metadata": {
    "colab": {
     "base_uri": "https://localhost:8080/",
     "height": 34
    },
    "colab_type": "code",
    "id": "w_pZjzZtVFHX",
    "outputId": "21e1ea5c-1370-4ecf-84d8-95cf3ce3837c"
   },
   "outputs": [
    {
     "name": "stdout",
     "output_type": "stream",
     "text": [
      "[10 12 14 16 18]\n"
     ]
    }
   ],
   "source": [
    "# start and stop parameters set\n",
    "import numpy as np\n",
    "x = np.arange(10,20,2)\n",
    "print (x)\n"
   ]
  },
  {
   "cell_type": "code",
   "execution_count": 23,
   "metadata": {
    "colab": {
     "base_uri": "https://localhost:8080/",
     "height": 34
    },
    "colab_type": "code",
    "id": "bCA6i_MeVNpo",
    "outputId": "047c085e-e8da-4d9b-dc46-80671257128e"
   },
   "outputs": [
    {
     "name": "stdout",
     "output_type": "stream",
     "text": [
      "[0.   0.25 0.5  0.75 1.   1.25 1.5  1.75 2.  ]\n"
     ]
    }
   ],
   "source": [
    "import numpy as np\n",
    "\n",
    "x = np.linspace(0, 2, 9)\n",
    "\n",
    "print(x)"
   ]
  },
  {
   "cell_type": "markdown",
   "metadata": {
    "colab_type": "text",
    "id": "fxYWfcigZgmE"
   },
   "source": [
    "#### Array Indexing\n",
    "Knowing the basics of array indexing is important for analysing and manipulating the array object.\n",
    "* Slicing\n",
    "* Integer array indexing\n",
    "* Boolean array indexing"
   ]
  },
  {
   "cell_type": "code",
   "execution_count": 24,
   "metadata": {
    "colab": {
     "base_uri": "https://localhost:8080/",
     "height": 84
    },
    "colab_type": "code",
    "id": "vVGzPn05YhbC",
    "outputId": "ec033264-515f-4185-bbe3-057eb0091fe0"
   },
   "outputs": [
    {
     "name": "stdout",
     "output_type": "stream",
     "text": [
      "[[10 12 14]\n",
      " [16 18 20]\n",
      " [22 24 26]]\n"
     ]
    }
   ],
   "source": [
    "#Here we will discuss only slicing\n",
    "x = np.arange(10, 28, 2).reshape(3,3)\n",
    "\n",
    "print(x)\n"
   ]
  },
  {
   "cell_type": "code",
   "execution_count": 29,
   "metadata": {},
   "outputs": [
    {
     "name": "stdout",
     "output_type": "stream",
     "text": [
      "[14 20 26]\n"
     ]
    }
   ],
   "source": [
    "#We will the perform slicing on the given array now\n",
    "\n",
    "y = x[:, 2]\n",
    "\n",
    "print(y)\n"
   ]
  },
  {
   "cell_type": "code",
   "execution_count": 28,
   "metadata": {},
   "outputs": [
    {
     "name": "stdout",
     "output_type": "stream",
     "text": [
      "[22 24 26]\n"
     ]
    }
   ],
   "source": [
    "y = x[2, :]\n",
    "\n",
    "print(y)\n"
   ]
  },
  {
   "cell_type": "code",
   "execution_count": 32,
   "metadata": {},
   "outputs": [
    {
     "name": "stdout",
     "output_type": "stream",
     "text": [
      "[[ 1  2  3]\n",
      " [ 4  5  6]\n",
      " [ 7  8  9]\n",
      " [10 11 12]]\n"
     ]
    }
   ],
   "source": [
    "#Reshaping\n",
    "\n",
    "arr = np.array([1, 2, 3, 4, 5, 6, 7, 8, 9, 10, 11, 12])\n",
    "\n",
    "newarr = arr.reshape(4, 3)\n",
    "\n",
    "print(newarr)"
   ]
  },
  {
   "cell_type": "code",
   "execution_count": 33,
   "metadata": {
    "colab": {
     "base_uri": "https://localhost:8080/",
     "height": 101
    },
    "colab_type": "code",
    "id": "FOxxkQn0Zfs-",
    "outputId": "a35e86ce-9c24-4ea2-d08c-1cc778083c91"
   },
   "outputs": [
    {
     "name": "stdout",
     "output_type": "stream",
     "text": [
      "[120 122 124 126 128 130 132 134 136]\n"
     ]
    }
   ],
   "source": [
    "x  = np.arange(120, 138, 2)\n",
    "print(x)\n"
   ]
  },
  {
   "cell_type": "code",
   "execution_count": 34,
   "metadata": {
    "colab": {},
    "colab_type": "code",
    "id": "eaZnUyZqcvy6"
   },
   "outputs": [
    {
     "name": "stdout",
     "output_type": "stream",
     "text": [
      "Reshaped the matrix into a 3*3 matrix: \n",
      "[[120 122 124]\n",
      " [126 128 130]\n",
      " [132 134 136]]\n"
     ]
    }
   ],
   "source": [
    "y = x.reshape(3, 3)\n",
    "print('Reshaped the matrix into a 3*3 matrix: ')\n",
    "print(y)"
   ]
  },
  {
   "cell_type": "code",
   "execution_count": 4,
   "metadata": {},
   "outputs": [],
   "source": [
    "import numpy as np\n",
    "arr = np.array([1, 2, 3, 4, 5, 6, 7, 8, 9, 10, 11, 12])"
   ]
  },
  {
   "cell_type": "code",
   "execution_count": 6,
   "metadata": {},
   "outputs": [
    {
     "name": "stdout",
     "output_type": "stream",
     "text": [
      "3.452052529534663\n"
     ]
    }
   ],
   "source": [
    "standard_deviation = np.std(arr)\n",
    "print(standard_deviation)"
   ]
  },
  {
   "cell_type": "code",
   "execution_count": 7,
   "metadata": {},
   "outputs": [
    {
     "name": "stdout",
     "output_type": "stream",
     "text": [
      "6.5\n"
     ]
    }
   ],
   "source": [
    "#mean\n",
    "print(np.mean(arr))"
   ]
  },
  {
   "cell_type": "code",
   "execution_count": null,
   "metadata": {},
   "outputs": [],
   "source": []
  }
 ],
 "metadata": {
  "colab": {
   "collapsed_sections": [],
   "name": "Numpy.ipynb",
   "provenance": []
  },
  "kernelspec": {
   "display_name": "Python 3",
   "language": "python",
   "name": "python3"
  },
  "language_info": {
   "codemirror_mode": {
    "name": "ipython",
    "version": 3
   },
   "file_extension": ".py",
   "mimetype": "text/x-python",
   "name": "python",
   "nbconvert_exporter": "python",
   "pygments_lexer": "ipython3",
   "version": "3.7.7"
  }
 },
 "nbformat": 4,
 "nbformat_minor": 1
}
